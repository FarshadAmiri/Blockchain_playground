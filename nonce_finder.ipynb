{
 "cells": [
  {
   "cell_type": "code",
   "execution_count": 1,
   "metadata": {},
   "outputs": [],
   "source": [
    "import hashlib\n",
    "import random\n",
    "import string"
   ]
  },
  {
   "cell_type": "code",
   "execution_count": null,
   "metadata": {},
   "outputs": [
    {
     "name": "stdout",
     "output_type": "stream",
     "text": [
      "SHA-256 of 'Hello World': a591a6d40bf420404a011733cfb7b190d62c65bf0bcda32b57b277d9ad9f146e\n",
      "SHA-256 of bytes: b09dc084d51bf7644f66920212e33fe05336c745691e204cf6bb3818b89f4533\n",
      "SHA-256 of file: 24a95aa7cfc4a8795a8c4c44ec1705ed99ff0db4bea08a4927ad185cd58ee8e0\n"
     ]
    }
   ],
   "source": [
    "def calculate_sha256(input_data):\n",
    "    \"\"\"\n",
    "    Calculate the SHA-256 hash of the given input data.\n",
    "\n",
    "    Args:\n",
    "        input_data: The data to hash. Can be a string, bytes, or file path.\n",
    "\n",
    "    Returns:\n",
    "        The SHA-256 hash in hexadecimal format.\n",
    "    \"\"\"\n",
    "    sha256 = hashlib.sha256()\n",
    "\n",
    "    if isinstance(input_data, str):\n",
    "        # Check if input is a file path\n",
    "        try:\n",
    "            with open(input_data, 'rb') as file:\n",
    "                for chunk in iter(lambda: file.read(4096), b\"\"):\n",
    "                    sha256.update(chunk)\n",
    "            return sha256.hexdigest()\n",
    "        except FileNotFoundError:\n",
    "            # Treat it as a regular string\n",
    "            sha256.update(input_data.encode('utf-8'))\n",
    "    elif isinstance(input_data, bytes):\n",
    "        sha256.update(input_data)\n",
    "    else:\n",
    "        raise ValueError(\"Input must be a string, bytes, or a file path.\")\n",
    "\n",
    "    return sha256.hexdigest()\n",
    "\n",
    "\n",
    "# Example usage:\n",
    "if __name__ == \"__main__\":\n",
    "    # Hash a string\n",
    "    print(\"SHA-256 of 'Hello World':\", calculate_sha256(\"Hello World\"))\n",
    "    \n",
    "    # Hash bytes\n",
    "    print(\"SHA-256 of bytes:\", calculate_sha256(b\"Sample bytes\"))\n",
    "    \n",
    "    # Hash a file\n",
    "    file_path = r\"C:\\Users\\User_1\\Desktop\\users.txt\"  # Replace with your file path\n",
    "    print(\"SHA-256 of file:\", calculate_sha256(file_path))\n"
   ]
  },
  {
   "cell_type": "code",
   "execution_count": 3,
   "metadata": {},
   "outputs": [],
   "source": [
    "x = \"24a95aa7cfc4a8795a8c4c44ec1705ed99ff0db4bea08a4927ad185cd58ee8e0\""
   ]
  },
  {
   "cell_type": "code",
   "execution_count": 4,
   "metadata": {},
   "outputs": [],
   "source": [
    "def find_nonce(x, k_string, iter=1e8, random_nonce=False, random_nonce_length=10, k_at_end=True):\n",
    "    iter = int(iter)\n",
    "    counter = 0\n",
    "    while counter < iter:\n",
    "        \n",
    "        if random_nonce:\n",
    "            characters = string.ascii_letters + string.digits\n",
    "            nonce = ''.join(random.choice(characters) for _ in range(random_nonce_length))\n",
    "        else:\n",
    "            nonce = counter\n",
    "        \n",
    "        new_x = x + str(nonce)\n",
    "        if k_at_end:\n",
    "            if calculate_sha256(new_x)[-len(str(k_string)):] == k_string:\n",
    "                print(f\"Nonce founda after {counter} iterations\")\n",
    "                return nonce\n",
    "        else:\n",
    "            if k_string in calculate_sha256(new_x):\n",
    "                print(f\"Nonce founda after {counter} iterations\")\n",
    "                return nonce\n",
    "        \n",
    "        counter += 1    \n",
    "    return \"Nonce not found\""
   ]
  },
  {
   "cell_type": "markdown",
   "metadata": {},
   "source": [
    "1"
   ]
  },
  {
   "cell_type": "code",
   "execution_count": 13,
   "metadata": {},
   "outputs": [
    {
     "name": "stdout",
     "output_type": "stream",
     "text": [
      "Nonce founda after 118414 iterations\n"
     ]
    },
    {
     "data": {
      "text/plain": [
       "'UPvZrr'"
      ]
     },
     "execution_count": 13,
     "metadata": {},
     "output_type": "execute_result"
    }
   ],
   "source": [
    "find_nonce(x, \"fa7303\", 1000000, random_nonce=True, random_nonce_length=6, k_at_end=False)"
   ]
  },
  {
   "cell_type": "code",
   "execution_count": 14,
   "metadata": {},
   "outputs": [
    {
     "data": {
      "text/plain": [
       "'959d85fa73032bf91e5ac18dac9036adad9228f4f45a96b37d958d27e5058104'"
      ]
     },
     "execution_count": 14,
     "metadata": {},
     "output_type": "execute_result"
    }
   ],
   "source": [
    "calculate_sha256(\"24a95aa7cfc4a8795a8c4c44ec1705ed99ff0db4bea08a4927ad185cd58ee8e0UPvZrr\")"
   ]
  },
  {
   "cell_type": "markdown",
   "metadata": {},
   "source": [
    "2"
   ]
  },
  {
   "cell_type": "code",
   "execution_count": 125,
   "metadata": {},
   "outputs": [
    {
     "name": "stdout",
     "output_type": "stream",
     "text": [
      "Nonce founda after 2116708 iterations\n"
     ]
    },
    {
     "data": {
      "text/plain": [
       "'4tqCi9'"
      ]
     },
     "execution_count": 125,
     "metadata": {},
     "output_type": "execute_result"
    }
   ],
   "source": [
    "find_nonce(\"Farshad\", \"13730330\", 1e10, random_nonce=True, random_nonce_length=6, k_at_end=False)"
   ]
  },
  {
   "cell_type": "code",
   "execution_count": 126,
   "metadata": {},
   "outputs": [
    {
     "data": {
      "text/plain": [
       "'c290ee37ef22d961c21bdc41e8fe93f713730330c3af9c89ce5078f7ae5fbf8e'"
      ]
     },
     "execution_count": 126,
     "metadata": {},
     "output_type": "execute_result"
    }
   ],
   "source": [
    "calculate_sha256(\"Farshad4tqCi9\")"
   ]
  },
  {
   "cell_type": "markdown",
   "metadata": {},
   "source": [
    "3"
   ]
  },
  {
   "cell_type": "code",
   "execution_count": null,
   "metadata": {},
   "outputs": [],
   "source": [
    "find_nonce(\"Farshad\", \"f13730330a\", 1e11, random_nonce=True, random_nonce_length=6, k_at_end=False)"
   ]
  },
  {
   "cell_type": "code",
   "execution_count": null,
   "metadata": {},
   "outputs": [],
   "source": []
  }
 ],
 "metadata": {
  "kernelspec": {
   "display_name": "Python 3 (ipykernel)",
   "language": "python",
   "name": "python3"
  },
  "language_info": {
   "codemirror_mode": {
    "name": "ipython",
    "version": 3
   },
   "file_extension": ".py",
   "mimetype": "text/x-python",
   "name": "python",
   "nbconvert_exporter": "python",
   "pygments_lexer": "ipython3",
   "version": "3.12.4"
  }
 },
 "nbformat": 4,
 "nbformat_minor": 2
}
